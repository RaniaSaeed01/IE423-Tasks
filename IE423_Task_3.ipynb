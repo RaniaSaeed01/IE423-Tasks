{
  "nbformat": 4,
  "nbformat_minor": 0,
  "metadata": {
    "colab": {
      "provenance": [],
      "authorship_tag": "ABX9TyN+oycDnfSx2ZvyCPLA9Htq",
      "include_colab_link": true
    },
    "kernelspec": {
      "name": "python3",
      "display_name": "Python 3"
    },
    "language_info": {
      "name": "python"
    }
  },
  "cells": [
    {
      "cell_type": "markdown",
      "metadata": {
        "id": "view-in-github",
        "colab_type": "text"
      },
      "source": [
        "<a href=\"https://colab.research.google.com/github/RaniaSaeed01/IE423-Tasks/blob/main/IE423_Task_3.ipynb\" target=\"_parent\"><img src=\"https://colab.research.google.com/assets/colab-badge.svg\" alt=\"Open In Colab\"/></a>"
      ]
    },
    {
      "cell_type": "code",
      "execution_count": 1,
      "metadata": {
        "id": "Q3C5Nsk4mRiW"
      },
      "outputs": [],
      "source": [
        "import pandas as pd\n",
        "import numpy as np\n",
        "\n",
        "import sklearn\n",
        "from sklearn.model_selection import train_test_split\n",
        "from sklearn.metrics import mean_absolute_error\n",
        "\n",
        "import warnings\n",
        "warnings.simplefilter(action='ignore', category=FutureWarning)"
      ]
    },
    {
      "cell_type": "code",
      "source": [
        "from google.colab import drive\n",
        "drive.mount('/content/drive')"
      ],
      "metadata": {
        "colab": {
          "base_uri": "https://localhost:8080/"
        },
        "id": "gZEhAAbLmtpP",
        "outputId": "98879a22-f638-4041-fd82-5cb8e1658212"
      },
      "execution_count": 2,
      "outputs": [
        {
          "output_type": "stream",
          "name": "stdout",
          "text": [
            "Mounted at /content/drive\n"
          ]
        }
      ]
    },
    {
      "cell_type": "code",
      "source": [
        "dfBFSales = pd.read_csv('/content/drive/MyDrive/Colab Notebooks/train.csv')\n",
        "\n",
        "# Select target as a series and features as dataframe\n",
        "y = dfBFSales.loc[:,['Purchase']].values.ravel()\n",
        "X = dfBFSales.drop(['Purchase'],axis=1)\n",
        "\n",
        "# Split into training and test sets\n",
        "X_train, X_test, y_train, y_test = train_test_split(X,y,train_size=0.8, test_size=0.2,random_state=1)"
      ],
      "metadata": {
        "id": "P4eRrQydm4fO"
      },
      "execution_count": 4,
      "outputs": []
    },
    {
      "cell_type": "code",
      "source": [
        "from sklearn.ensemble import RandomForestRegressor\n",
        "\n",
        "# Function for building and scoring Random Forest models\n",
        "def get_random_forest_mae(X_trn, X_tst, y_trn, y_tst):\n",
        "    mdlRfsBFSales = RandomForestRegressor(random_state=1)\n",
        "    mdlRfsBFSales.fit(X_trn, y_trn)\n",
        "    y_tst_prd = mdlRfsBFSales.predict(X_tst)\n",
        "    mae = mean_absolute_error(y_tst, y_tst_prd)\n",
        "    return (mae)"
      ],
      "metadata": {
        "id": "W_iaYzmnvj5z"
      },
      "execution_count": 5,
      "outputs": []
    },
    {
      "cell_type": "markdown",
      "source": [
        "### **Numerical Features**"
      ],
      "metadata": {
        "id": "wWWj3-Jj_2Xk"
      }
    },
    {
      "cell_type": "code",
      "source": [
        "# Select numeric features\n",
        "cols_num = [col for col in X.columns if X[col].dtype in ['int64', 'float64']]\n",
        "Xnum = X[cols_num]\n",
        "\n",
        "# Split numeric features into training and test sets\n",
        "Xnum_train, Xnum_test, y_train, y_test = train_test_split(Xnum,y,train_size=0.8, test_size=0.2,random_state=1)"
      ],
      "metadata": {
        "id": "RAJtCutQwQYD"
      },
      "execution_count": 6,
      "outputs": []
    },
    {
      "cell_type": "code",
      "source": [
        "# Count number of missing values in each column of the training data\n",
        "Xnum_train.isna().sum()"
      ],
      "metadata": {
        "colab": {
          "base_uri": "https://localhost:8080/"
        },
        "id": "3qfNPEfY5kZr",
        "outputId": "95a3e82f-0f1f-43fb-92c5-e3337a1e85d2"
      },
      "execution_count": 8,
      "outputs": [
        {
          "output_type": "execute_result",
          "data": {
            "text/plain": [
              "User_ID                    0\n",
              "Occupation                 0\n",
              "Marital_Status             0\n",
              "Product_Category_1         0\n",
              "Product_Category_2    138892\n",
              "Product_Category_3    306504\n",
              "dtype: int64"
            ]
          },
          "metadata": {},
          "execution_count": 8
        }
      ]
    },
    {
      "cell_type": "markdown",
      "source": [
        "The only columns with missing values are category numbers for the 2nd and 3rd products purchased by the customer. This is most likely because the customers who have no data in these columns did not purchase 2nd or 3rd products. It does not make sense to drop both colums entiresly because we would lose valauble data for customers who have purchased a 2nd and 3rd product. Instead we can try replacing missing values with a new product category: 0."
      ],
      "metadata": {
        "id": "OX0m6Yo06JD7"
      }
    },
    {
      "cell_type": "code",
      "source": [
        "# Replace missing values with 0\n",
        "Xnum_train_repnull = Xnum_train.fillna(0)\n",
        "Xnum_test_repnull = Xnum_test.fillna(0)\n",
        "\n",
        "print('MAE from replacing missing values with 0s:')\n",
        "print(get_random_forest_mae(Xnum_train_repnull, Xnum_test_repnull, y_train, y_test))"
      ],
      "metadata": {
        "colab": {
          "base_uri": "https://localhost:8080/"
        },
        "id": "fTpsWyw872Tz",
        "outputId": "52d4099c-3d9a-44d4-971e-d0e776411b02"
      },
      "execution_count": 10,
      "outputs": [
        {
          "output_type": "stream",
          "name": "stdout",
          "text": [
            "MAE from replacing missing values with 0s:\n",
            "2194.5193114225435\n"
          ]
        }
      ]
    },
    {
      "cell_type": "code",
      "source": [
        "X_train[cols_num]=Xnum_train_repnull[cols_num]\n",
        "X_test[cols_num]=Xnum_test_repnull[cols_num]"
      ],
      "metadata": {
        "id": "cPwY0Gz1_t_f"
      },
      "execution_count": 11,
      "outputs": []
    },
    {
      "cell_type": "markdown",
      "source": [
        "## **Non-Numerical Features**"
      ],
      "metadata": {
        "id": "rB7LVMSr__1E"
      }
    },
    {
      "cell_type": "code",
      "source": [
        "# Select non-numeric features\n",
        "cols_obj = [col for col in X.columns if X[col].dtype == 'object']\n",
        "cols_obj"
      ],
      "metadata": {
        "colab": {
          "base_uri": "https://localhost:8080/"
        },
        "id": "HNwdsfFpAF17",
        "outputId": "8d359e76-a6da-4968-b36a-c612d7501806"
      },
      "execution_count": 12,
      "outputs": [
        {
          "output_type": "execute_result",
          "data": {
            "text/plain": [
              "['Product_ID', 'Gender', 'Age', 'City_Category', 'Stay_In_Current_City_Years']"
            ]
          },
          "metadata": {},
          "execution_count": 12
        }
      ]
    },
    {
      "cell_type": "code",
      "source": [
        "# Select categorical features\n",
        "cols_cat = [col for col in X.columns if X[col].dtype == 'object' and X[col].nunique()<10]\n",
        "cols_cat"
      ],
      "metadata": {
        "colab": {
          "base_uri": "https://localhost:8080/"
        },
        "id": "aQ1GNWLmAoTB",
        "outputId": "bad1c74c-b5e6-400c-9d41-36ac17a0f007"
      },
      "execution_count": 14,
      "outputs": [
        {
          "output_type": "execute_result",
          "data": {
            "text/plain": [
              "['Gender', 'Age', 'City_Category', 'Stay_In_Current_City_Years']"
            ]
          },
          "metadata": {},
          "execution_count": 14
        }
      ]
    },
    {
      "cell_type": "markdown",
      "source": [
        "Product_ID would not be useful data anyway as product categories have alreasdy been included in numerical data, therefore it is preferred to not be included in the model"
      ],
      "metadata": {
        "id": "OD_b5pa8BTXg"
      }
    },
    {
      "cell_type": "code",
      "source": [
        "from sklearn.preprocessing import LabelEncoder\n",
        "\n",
        "Xle_train = X_train.copy()\n",
        "Xle_test = X_test.copy()\n",
        "# Apply label encoder to each column with categorical data\n",
        "label_encoder = LabelEncoder()\n",
        "for col in cols_cat:\n",
        "    Xle_train[col] = label_encoder.fit_transform(X_train[col])\n",
        "    Xle_test[col] = label_encoder.transform(X_test[col])"
      ],
      "metadata": {
        "id": "x0-RboBjAYKA"
      },
      "execution_count": 22,
      "outputs": []
    },
    {
      "cell_type": "code",
      "source": [
        "mae = get_random_forest_mae(Xle_train[cols_num + cols_cat], Xle_test[cols_num + cols_cat], y_train, y_test)\n",
        "print(\"MAE from Numerical and Encoded Categorical Colummns:\")\n",
        "print(mae)"
      ],
      "metadata": {
        "colab": {
          "base_uri": "https://localhost:8080/"
        },
        "id": "IkscYRl9Bw_Q",
        "outputId": "57ccc47d-21a1-4088-eb68-ff29472c0ab1"
      },
      "execution_count": 21,
      "outputs": [
        {
          "output_type": "stream",
          "name": "stdout",
          "text": [
            "MAE from Numerical and Encoded Categorical Colummns:\n",
            "2155.658274877166\n"
          ]
        }
      ]
    },
    {
      "cell_type": "markdown",
      "source": [
        "This is only slightly better than the MAE obtained from using only numerical data. Let's try using the gradient boost to see if it improves the MAE."
      ],
      "metadata": {
        "id": "CiwNrDJsJg0Z"
      }
    },
    {
      "cell_type": "code",
      "source": [
        "from xgboost import XGBRegressor\n",
        "\n",
        "#Build and score default Gradient Boosting Model\n",
        "mdlXgbBFSales = XGBRegressor()\n",
        "mdlXgbBFSales.fit(Xle_train[cols_num + cols_cat], y_train)\n",
        "y_test_pred = mdlXgbBFSales.predict(Xle_test[cols_num + cols_cat])\n",
        "mae = mean_absolute_error(y_test_pred, y_test)\n",
        "\n",
        "print(\"MAE from default XGBoost model:\")\n",
        "print(mae)"
      ],
      "metadata": {
        "colab": {
          "base_uri": "https://localhost:8080/"
        },
        "id": "YjXPZcwvDLOL",
        "outputId": "4624358c-0e49-4c80-f5a7-ba60bdb31b3e"
      },
      "execution_count": 18,
      "outputs": [
        {
          "output_type": "stream",
          "name": "stdout",
          "text": [
            "MAE from default XGBoost model:\n",
            "2088.5694435910577\n"
          ]
        }
      ]
    },
    {
      "cell_type": "markdown",
      "source": [
        "This result is better than tha obtained from the random forest model with numerical and categorical data. Let's see if it can be improved further by tuning the paramaters if the gradient boost model."
      ],
      "metadata": {
        "id": "jQ9P1aTbIyE4"
      }
    },
    {
      "cell_type": "code",
      "source": [
        "from xgboost import XGBRegressor\n",
        "from sklearn.metrics import mean_absolute_error\n",
        "from sklearn.model_selection import GridSearchCV\n",
        "\n",
        "# Define parameter grid for tuning\n",
        "param_grid = {\n",
        "    'n_estimators': [100, 200, 300],\n",
        "    'max_depth': [3, 5, 7],\n",
        "    'learning_rate': [0.01, 0.1],\n",
        "}\n",
        "\n",
        "# Create XGBoost model\n",
        "mdlXgbBFSales = XGBRegressor()\n",
        "\n",
        "# Perform grid search with cross-validation\n",
        "grid_search = GridSearchCV(mdlXgbBFSales, param_grid, cv=5, scoring='neg_mean_absolute_error')\n",
        "grid_search.fit(Xle_train[cols_num + cols_cat], y_train)\n",
        "\n",
        "# Get the best model\n",
        "best_model = grid_search.best_estimator_\n",
        "\n",
        "# Make predictions\n",
        "y_test_pred = best_model.predict(Xle_test[cols_num + cols_cat])\n",
        "mae = mean_absolute_error(y_test_pred, y_test)\n",
        "\n",
        "print(\"Best parameters:\", grid_search.best_params_)\n",
        "print(\"MAE:\", mae)"
      ],
      "metadata": {
        "colab": {
          "base_uri": "https://localhost:8080/"
        },
        "id": "p0VVxpCVE99r",
        "outputId": "d806608b-74d5-4551-b887-932ba6233777"
      },
      "execution_count": 20,
      "outputs": [
        {
          "output_type": "stream",
          "name": "stdout",
          "text": [
            "Best parameters: {'learning_rate': 0.1, 'max_depth': 7, 'n_estimators': 300}\n",
            "MAE: 2061.397194056713\n"
          ]
        }
      ]
    },
    {
      "cell_type": "markdown",
      "source": [
        "Lowest MAE thus far. This model is the best option to predict purchase values, given all other numerical and categorical data regarding the customer. In order to make actual predictions with this code we would need to know how the categoraical data has been encoded so it can be entered accordingly."
      ],
      "metadata": {
        "id": "HbUBjR2JJ9hQ"
      }
    }
  ]
}